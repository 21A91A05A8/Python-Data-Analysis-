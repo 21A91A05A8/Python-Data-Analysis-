{
 "cells": [
  {
   "cell_type": "code",
   "execution_count": 3,
   "id": "dbf86938-3165-4678-8442-598deb6d067b",
   "metadata": {},
   "outputs": [],
   "source": [
    "write_file = open(r'D:\\Alex_Python\\Automated File Sorter\\text files\\file1.txt', 'w')"
   ]
  },
  {
   "cell_type": "code",
   "execution_count": 5,
   "id": "104ac97a-141c-4470-96e5-27e6c6fa0188",
   "metadata": {},
   "outputs": [
    {
     "data": {
      "text/plain": [
       "39"
      ]
     },
     "execution_count": 5,
     "metadata": {},
     "output_type": "execute_result"
    }
   ],
   "source": [
    "write_file.write('This is our first sentence in our file.')"
   ]
  },
  {
   "cell_type": "code",
   "execution_count": 7,
   "id": "03bbf15c-bfcc-4604-9c4d-9c8c8351667b",
   "metadata": {},
   "outputs": [],
   "source": [
    "write_file.close()"
   ]
  },
  {
   "cell_type": "code",
   "execution_count": 9,
   "id": "633c3661-711d-4f4c-8805-9c5af172f8f0",
   "metadata": {},
   "outputs": [],
   "source": [
    "append_file = open(r'D:\\Alex_Python\\Automated File Sorter\\text files\\file1.txt', 'a')\n",
    "append_file.write(' This is our Second sentence in our file.')\n",
    "append_file.close()"
   ]
  },
  {
   "cell_type": "code",
   "execution_count": 11,
   "id": "c921a5b5-63b5-4d7f-897a-f9dbe9e10b01",
   "metadata": {},
   "outputs": [],
   "source": [
    "with open(r'D:\\Alex_Python\\Automated File Sorter\\text files\\file1.txt', 'a') as append_file:\n",
    "    append_file.write('\\n This is our Third sentence in our file on a new line.')"
   ]
  },
  {
   "cell_type": "code",
   "execution_count": 13,
   "id": "d2d4e392-5bbd-45ca-bac5-352a1bff036b",
   "metadata": {},
   "outputs": [
    {
     "name": "stdout",
     "output_type": "stream",
     "text": [
      "This is our first sentence in our file. This is our Second sentence in our file.\n",
      " This is our Third sentence in our file on a new line.\n"
     ]
    }
   ],
   "source": [
    "with open(r'D:\\Alex_Python\\Automated File Sorter\\text files\\file1.txt', 'r') as read_file:\n",
    "    print(read_file.read())"
   ]
  },
  {
   "cell_type": "code",
   "execution_count": 15,
   "id": "9d8cdbe6-06f7-4e69-8aec-2549d1c76e54",
   "metadata": {},
   "outputs": [],
   "source": [
    "multi_line = \"\"\"\n",
    "This is the Fourth sentence.\n",
    "This is the Fifth sentence.\n",
    "This is the Sixth sentence.\n",
    "\"\"\"\n",
    "\n",
    "with open(r'D:\\Alex_Python\\Automated File Sorter\\text files\\file1.txt', 'a') as append_file:\n",
    "    append_file.write(multi_line)"
   ]
  },
  {
   "cell_type": "code",
   "execution_count": 17,
   "id": "c2b023ac-da9c-4017-b087-511ba0025b2f",
   "metadata": {},
   "outputs": [
    {
     "name": "stdout",
     "output_type": "stream",
     "text": [
      "This is our first sentence in our file. This is our Second sentence in our file.\n",
      " This is our Third sentence in our file on a new line.\n",
      "This is the Fourth sentence.\n",
      "This is the Fifth sentence.\n",
      "This is the Sixth sentence.\n",
      "\n"
     ]
    }
   ],
   "source": [
    "with open(r'D:\\Alex_Python\\Automated File Sorter\\text files\\file1.txt', 'r') as read_file:\n",
    "    print(read_file.read())"
   ]
  },
  {
   "cell_type": "code",
   "execution_count": null,
   "id": "759d02f2-7f48-4c2f-afd4-a7463faa8cb7",
   "metadata": {},
   "outputs": [],
   "source": []
  },
  {
   "cell_type": "code",
   "execution_count": null,
   "id": "83f52d32-39b5-48b5-b347-b79196da57b9",
   "metadata": {},
   "outputs": [],
   "source": []
  }
 ],
 "metadata": {
  "kernelspec": {
   "display_name": "Python 3 (ipykernel)",
   "language": "python",
   "name": "python3"
  },
  "language_info": {
   "codemirror_mode": {
    "name": "ipython",
    "version": 3
   },
   "file_extension": ".py",
   "mimetype": "text/x-python",
   "name": "python",
   "nbconvert_exporter": "python",
   "pygments_lexer": "ipython3",
   "version": "3.12.4"
  }
 },
 "nbformat": 4,
 "nbformat_minor": 5
}
