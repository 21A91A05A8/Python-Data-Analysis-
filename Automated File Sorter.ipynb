{
 "cells": [
  {
   "cell_type": "code",
   "execution_count": 41,
   "id": "f87533ba-f426-4359-bf65-b853b50dc311",
   "metadata": {},
   "outputs": [],
   "source": [
    "import os,shutil"
   ]
  },
  {
   "cell_type": "code",
   "execution_count": 43,
   "id": "81f24881-5234-48d3-bae0-dfa92f685b84",
   "metadata": {},
   "outputs": [],
   "source": [
    "path=r\"D:/Alex_Python/Automated File Sorter/\""
   ]
  },
  {
   "cell_type": "code",
   "execution_count": 45,
   "id": "5ac9c6c5-c0b1-4f5a-ab91-e6358433f1d6",
   "metadata": {},
   "outputs": [],
   "source": [
    "filename=os.listdir(path)"
   ]
  },
  {
   "cell_type": "code",
   "execution_count": 47,
   "id": "397c5d36-143c-4939-bef2-6962cc1785a7",
   "metadata": {},
   "outputs": [
    {
     "data": {
      "text/plain": [
       "False"
      ]
     },
     "execution_count": 47,
     "metadata": {},
     "output_type": "execute_result"
    }
   ],
   "source": [
    "os.path.exists(path + 'xlsx')"
   ]
  },
  {
   "cell_type": "code",
   "execution_count": 49,
   "id": "a400a5ab-f467-4cc7-9b5f-5f5df84f8d72",
   "metadata": {},
   "outputs": [],
   "source": [
    "folder_names=['excel files','image files','text files']\n",
    "\n",
    "for loop in range(0,3):\n",
    "    if not os.path.exists(path + folder_names[loop]):\n",
    "        # print(path + folder_names[loop])\n",
    "        os.makedirs((path+folder_names[loop]))\n",
    "for file in filename:\n",
    "    if \".xlsx\" in file and not os.path.exists(path + 'excel files/' + file):\n",
    "        shutil.move(path + file,path + 'excel files/' + file)\n",
    "    elif \".jpg\" in file and not os.path.exists(path + 'image files/' + file):\n",
    "        shutil.move(path + file,path + 'image files/' + file)\n",
    "    elif \".txt\" in file and not os.path.exists(path + 'text files/' + file):\n",
    "        shutil.move(path + file,path + 'text files/' + file)"
   ]
  },
  {
   "cell_type": "code",
   "execution_count": null,
   "id": "86ed5a4a-da3d-4264-83b5-faf37fa91c16",
   "metadata": {},
   "outputs": [],
   "source": []
  },
  {
   "cell_type": "code",
   "execution_count": null,
   "id": "43459074-cc2e-4744-b33c-4c7b7f4ad894",
   "metadata": {},
   "outputs": [],
   "source": []
  },
  {
   "cell_type": "code",
   "execution_count": null,
   "id": "1fd5b977-b433-420d-b708-415e93e35986",
   "metadata": {},
   "outputs": [],
   "source": []
  }
 ],
 "metadata": {
  "kernelspec": {
   "display_name": "Python 3 (ipykernel)",
   "language": "python",
   "name": "python3"
  },
  "language_info": {
   "codemirror_mode": {
    "name": "ipython",
    "version": 3
   },
   "file_extension": ".py",
   "mimetype": "text/x-python",
   "name": "python",
   "nbconvert_exporter": "python",
   "pygments_lexer": "ipython3",
   "version": "3.12.4"
  }
 },
 "nbformat": 4,
 "nbformat_minor": 5
}
